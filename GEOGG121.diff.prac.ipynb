import sys
import argparse
import numpy as np
from matplotlib.pyplot import *
import matplotlib.pyplot as plt
from IPython.display import Image
%matplotlib inline
